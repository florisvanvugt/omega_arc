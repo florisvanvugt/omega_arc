{
 "cells": [
  {
   "cell_type": "code",
   "execution_count": null,
   "metadata": {},
   "outputs": [],
   "source": [
    "%pylab inline\n",
    "\n",
    "import os\n",
    "import pandas as pd\n",
    "import pickle\n",
    "pj = os.path.join\n",
    "import json\n",
    "\n",
    "import seaborn as sns\n",
    "sns.set(style=\"ticks\",font_scale=1.5,font='Helvetica')\n",
    "sns.set_palette(sns.hls_palette(8, l=.3, s=.8))\n"
   ]
  },
  {
   "cell_type": "code",
   "execution_count": null,
   "metadata": {},
   "outputs": [],
   "source": [
    "INPUT_DIR = \"/home/floris/DB.Montreal/ArcTrace_Omega/201807_Simon\""
   ]
  },
  {
   "cell_type": "code",
   "execution_count": null,
   "metadata": {},
   "outputs": [],
   "source": [
    "files = os.listdir(INPUT_DIR)\n",
    "prefixes = []\n",
    "suffixes = [\"_parameters.json\",\"_captured.pickle27\",\"_trials.txt\"]\n",
    "for f in files:\n",
    "    for s in suffixes:\n",
    "        if f.endswith(s):\n",
    "            prefixes.append(f[:-len(s)])\n",
    "prefixes=list(set(prefixes))\n",
    "prefixes.sort()"
   ]
  },
  {
   "cell_type": "code",
   "execution_count": null,
   "metadata": {},
   "outputs": [],
   "source": [
    "# Let's take a look at how many trials are in each file ---\n",
    "for p in prefixes:\n",
    "    f = pd.read_csv(pj(INPUT_DIR,p+\"_trials.txt\"),sep=' ')\n",
    "    print(p,f.shape[0])"
   ]
  },
  {
   "cell_type": "markdown",
   "metadata": {},
   "source": [
    "Now from the options above, please select your input files, in the right order too."
   ]
  },
  {
   "cell_type": "code",
   "execution_count": null,
   "metadata": {},
   "outputs": [],
   "source": [
    "loadfiles = \"Pierrick_arc_24_07.16h16m05 Pierrick_arc_24_07.16h22m36 Pierrick_arc_24_07.16h28m29 Pierrick_arc_24_07.16h35m53\".split()"
   ]
  },
  {
   "cell_type": "code",
   "execution_count": null,
   "metadata": {},
   "outputs": [],
   "source": [
    "#loadfiles = \"Julie_arc_25_07.16h22m48 Julie_arc_25_07.16h29m38 Julie_arc_25_07.16h36m09 Julie_arc_25_07.16h43m09\".split()"
   ]
  },
  {
   "cell_type": "code",
   "execution_count": null,
   "metadata": {},
   "outputs": [],
   "source": [
    "#loadfiles = \"marika_arc_26_07.14h51m55 marika_arc_26_07.14h58m00  marika_arc_26_07.15h04m23 marika_arc_26_07.15h10m00 \".split()"
   ]
  },
  {
   "cell_type": "code",
   "execution_count": null,
   "metadata": {},
   "outputs": [],
   "source": [
    "#loadfiles = \"Ibrahim_arc_27_07.15h11m15 Ibrahim_arc_27_07.15h17m09 Ibrahim_arc_27_07.15h22m51 Ibrahim_arc_27_07.15h30m05\".split()"
   ]
  },
  {
   "cell_type": "code",
   "execution_count": null,
   "metadata": {},
   "outputs": [],
   "source": [
    "alltrials = []\n",
    "alltrajectories = {}\n",
    "timestamps = []\n",
    "\n",
    "cumul_trial = 0\n",
    "for blocki,f in enumerate(loadfiles):\n",
    "    tab = pd.read_csv(pj(INPUT_DIR,f+\"_trials.txt\"),sep=' ')\n",
    "    tab[\"block\"]=blocki+1 # the index of the block\n",
    "    \n",
    "    tab[\"cumul.trial\"]=cumul_trial+tab[\"trial\"]\n",
    "    cumul_trial=max(tab[\"cumul.trial\"])\n",
    "    \n",
    "    alltrials.append(tab)\n",
    "    \n",
    "    trial_to_cumul = dict(zip(tab[\"trial\"],tab[\"cumul.trial\"])) # which trial maps to which cumulative trial\n",
    "    \n",
    "    trajectories = pickle.load(open(pj(INPUT_DIR,f+\"_captured.pickle27\"),'rb'))\n",
    "    \n",
    "    # Now let's read the trajectories\n",
    "    for traj in trajectories:\n",
    "        tr = trial_to_cumul[traj[\"trial\"]]\n",
    "        thistraj = traj[\"trajectory\"][1:] ### NOTE! Chopping off first data point because of glitch in the script\n",
    "\n",
    "        # Convert trajectory to cm for ease of interpretation\n",
    "        x,y,z=zip(*thistraj)\n",
    "        thistraj = zip(100*array(x),100*array(y),100*array(z))\n",
    "        \n",
    "        alltrajectories[tr]=list(thistraj)\n",
    "        timestamps.append({\"cumul.trial\":tr,\"timestamp\":traj[\"capture.t\"]})\n",
    "    \n",
    "alltrials = pd.merge(pd.concat(alltrials),pd.DataFrame(timestamps))\n",
    "alltrials[\"direction\"]=['leftward' if tx<0 else 'rightward' for tx in alltrials[\"target.x\"]]\n",
    "\n",
    "# Also grab a parameter file while we are at it\n",
    "params = json.load(open(pj(INPUT_DIR,f+'_parameters.json')))"
   ]
  },
  {
   "cell_type": "code",
   "execution_count": null,
   "metadata": {},
   "outputs": [],
   "source": [
    "alltrials.head()"
   ]
  },
  {
   "cell_type": "code",
   "execution_count": null,
   "metadata": {},
   "outputs": [],
   "source": [
    "blocks = list(set(alltrials[\"block\"]))\n",
    "print(blocks)"
   ]
  },
  {
   "cell_type": "code",
   "execution_count": null,
   "metadata": {},
   "outputs": [],
   "source": [
    "# The prefix for figures\n",
    "SUBJECT = alltrials.iloc[0][\"participant\"]\n",
    "FIGDIR = 'figs/%s__'%SUBJECT\n",
    "print(FIGDIR)"
   ]
  },
  {
   "cell_type": "markdown",
   "metadata": {},
   "source": [
    "## How many trials were too slow (aborted)?"
   ]
  },
  {
   "cell_type": "code",
   "execution_count": null,
   "metadata": {},
   "outputs": [],
   "source": [
    "for bl,data in alltrials.groupby('block'):\n",
    "    n_incomplete = sum(data[\"timing\"]==\"incomplete.trial\")\n",
    "    perc = 100*n_incomplete/data.shape[0]\n",
    "    print(\"Block %i   #incomplete = %i (%.2f %%)\"%(bl,n_incomplete,perc))"
   ]
  },
  {
   "cell_type": "code",
   "execution_count": null,
   "metadata": {},
   "outputs": [],
   "source": [
    "# Overall\n",
    "n_incomplete = sum(alltrials[\"timing\"]==\"incomplete.trial\")\n",
    "perc = 100*n_incomplete/alltrials.shape[0]\n",
    "print(\"Overall   #incomplete = %i (%.2f %%)\"%(n_incomplete,perc))"
   ]
  },
  {
   "cell_type": "markdown",
   "metadata": {},
   "source": [
    "### Remove the trajectories corresponding to these aborted trials\n"
   ]
  },
  {
   "cell_type": "code",
   "execution_count": null,
   "metadata": {},
   "outputs": [],
   "source": [
    "for i,row in alltrials.iterrows():\n",
    "    if row[\"timing\"]==\"incomplete.trial\":\n",
    "        tr = row[\"cumul.trial\"]\n",
    "        alltrajectories[tr]=[]"
   ]
  },
  {
   "cell_type": "markdown",
   "metadata": {},
   "source": [
    "## Taking a look at individual trials"
   ]
  },
  {
   "cell_type": "code",
   "execution_count": null,
   "metadata": {},
   "outputs": [],
   "source": [
    "def draw_arc(ax):\n",
    "    \"\"\" \n",
    "    Draw a reference arc in a given plot\n",
    "    \"\"\"\n",
    "    col   = 'black'\n",
    "    alpha =.8\n",
    "    lw    = 2\n",
    "\n",
    "    circangs = linspace(0,2*pi,100)\n",
    "    \n",
    "    def arc(center,radius,angs):\n",
    "        cx,cy=center\n",
    "        ax.plot(100*(cx+radius*cos(angs)),\n",
    "                100*(cy+radius*sin(angs)),color=col,alpha=alpha,lw=lw)\n",
    "        # What that factor 100 is doing in there? Converting m to cm.\n",
    "\n",
    "    arc(params[\"RIGHT_ARC_ORIGIN\"],params[\"TARGET_RADIUS\"],circangs)\n",
    "    arc(params[\"LEFT_ARC_ORIGIN\"] ,params[\"TARGET_RADIUS\"],circangs)    \n",
    "    \n",
    "    arc((params[\"ARC_BASE_X\"]-params[\"ARC_RADIUS_1\"],params[\"ARC_BASE_Y\"]),params[\"ARC_RADIUS_1\"],linspace(0,   pi,100))\n",
    "    arc((params[\"ARC_BASE_X\"]+params[\"ARC_RADIUS_2\"],params[\"ARC_BASE_Y\"]),params[\"ARC_RADIUS_2\"],linspace(pi,2*pi,100))"
   ]
  },
  {
   "cell_type": "code",
   "execution_count": null,
   "metadata": {},
   "outputs": [],
   "source": [
    "f,ax = subplots(1,1,figsize=(10,5))\n",
    "draw_arc(ax)\n",
    "for i,row in alltrials.iterrows():  \n",
    "    tr = row[\"cumul.trial\"]\n",
    "    traj = alltrajectories[tr]\n",
    "    if len(traj):\n",
    "        x,y,z=zip(*traj)\n",
    "        plot(y[:],z[:],'-',lw=.2,color='blue')\n",
    "\n",
    "ax.set_aspect('equal', 'datalim')\n",
    "xlabel(\"y (cm)\")\n",
    "ylabel(\"z (cm)\")\n",
    "sns.despine(offset=5,trim=True)"
   ]
  },
  {
   "cell_type": "markdown",
   "metadata": {},
   "source": [
    "### Chop it up by block"
   ]
  },
  {
   "cell_type": "code",
   "execution_count": null,
   "metadata": {},
   "outputs": [],
   "source": [
    "blocks = list(set(alltrials[\"block\"]))\n",
    "\n",
    "f,axs = subplots(len(blocks),1,figsize=(10,15),sharex=True,sharey=True)\n",
    "for i,bl in enumerate(blocks):\n",
    "    axs[i].set_aspect('equal')\n",
    "    axs[i].set_title(\"block %i\"%bl)\n",
    "    draw_arc(axs[i])\n",
    "\n",
    "for i,row in alltrials.iterrows():  \n",
    "    tr = row[\"cumul.trial\"]\n",
    "    bl = row[\"block\"]\n",
    "    ax = axs[blocks.index(bl)]\n",
    "    traj = alltrajectories[tr]\n",
    "    if len(traj):\n",
    "        x,y,z=zip(*traj)\n",
    "        ax.plot(y[:],z[:],'-',lw=.5,color='blue')\n",
    "    \n",
    "xlabel(\"y (cm)\")\n",
    "ylabel(\"z (cm)\")\n",
    "sns.despine(offset=5,trim=True)"
   ]
  },
  {
   "cell_type": "markdown",
   "metadata": {},
   "source": [
    "### Chop it up by block and direction"
   ]
  },
  {
   "cell_type": "code",
   "execution_count": null,
   "metadata": {},
   "outputs": [],
   "source": [
    "blocks = list(set(alltrials[\"block\"]))\n",
    "directions = list(set(alltrials[\"direction\"]))\n",
    "\n",
    "f,axs = subplots(len(blocks),len(directions),figsize=(15,15),sharex=True,sharey=True)\n",
    "for i,bl in enumerate(blocks):\n",
    "    for j,dr in enumerate(directions):\n",
    "        axs[i][j].set_aspect('equal')\n",
    "        axs[i][j].set_title(\"block %i %s\"%(bl,dr))\n",
    "        draw_arc(axs[i][j])\n",
    "\n",
    "for i,row in alltrials.iterrows():  \n",
    "    tr = row[\"cumul.trial\"]\n",
    "    bl = row[\"block\"]\n",
    "    dr = row[\"direction\"]\n",
    "    ax = axs[blocks.index(bl)][directions.index(dr)]\n",
    "    traj = alltrajectories[tr]\n",
    "    if len(traj):\n",
    "        x,y,z=zip(*traj)\n",
    "        ax.plot(y[:],z[:],'-',lw=.5,color='blue')\n",
    "\n",
    "    \n",
    "xlabel(\"y (cm)\")\n",
    "ylabel(\"z (cm)\")\n",
    "tight_layout()\n",
    "sns.despine(offset=5,trim=True)\n",
    "suptitle(SUBJECT)\n",
    "savefig(FIGDIR+'raw_block_direction.pdf')"
   ]
  },
  {
   "cell_type": "markdown",
   "metadata": {},
   "source": [
    "# Compute distances from arc"
   ]
  },
  {
   "cell_type": "markdown",
   "metadata": {},
   "source": [
    "**TODO**"
   ]
  },
  {
   "cell_type": "markdown",
   "metadata": {},
   "source": [
    "# Compute velocity, smoothness?"
   ]
  },
  {
   "cell_type": "markdown",
   "metadata": {},
   "source": [
    "**TODO**"
   ]
  }
 ],
 "metadata": {
  "kernelspec": {
   "display_name": "Python 3",
   "language": "python",
   "name": "python3"
  },
  "language_info": {
   "codemirror_mode": {
    "name": "ipython",
    "version": 3
   },
   "file_extension": ".py",
   "mimetype": "text/x-python",
   "name": "python",
   "nbconvert_exporter": "python",
   "pygments_lexer": "ipython3",
   "version": "3.6.5"
  }
 },
 "nbformat": 4,
 "nbformat_minor": 2
}
