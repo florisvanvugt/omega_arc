{
 "cells": [
  {
   "cell_type": "code",
   "execution_count": null,
   "metadata": {},
   "outputs": [],
   "source": [
    "%pylab inline\n",
    "\n",
    "import os\n",
    "import pandas as pd\n",
    "import pickle\n",
    "pj = os.path.join"
   ]
  },
  {
   "cell_type": "code",
   "execution_count": null,
   "metadata": {},
   "outputs": [],
   "source": [
    "INPUT_DIR = \"/home/floris/DB.Montreal/ArcTrace_Omega/201807_Simon\""
   ]
  },
  {
   "cell_type": "code",
   "execution_count": null,
   "metadata": {},
   "outputs": [],
   "source": [
    "files = os.listdir(INPUT_DIR)\n",
    "prefixes = []\n",
    "suffixes = [\"_parameters.json\",\"_captured.pickle27\",\"_trials.txt\"]\n",
    "for f in files:\n",
    "    for s in suffixes:\n",
    "        if f.endswith(s):\n",
    "            prefixes.append(f[:-len(s)])\n",
    "prefixes=list(set(prefixes))\n",
    "prefixes.sort()"
   ]
  },
  {
   "cell_type": "code",
   "execution_count": null,
   "metadata": {},
   "outputs": [],
   "source": [
    "# Let's take a look at how many trials are in each file ---\n",
    "for p in prefixes:\n",
    "    f = pd.read_csv(pj(INPUT_DIR,p+\"_trials.txt\"),sep=' ')\n",
    "    print(p,f.shape[0])"
   ]
  },
  {
   "cell_type": "markdown",
   "metadata": {},
   "source": [
    "Now from the options above, please select your input files, in the right order too."
   ]
  },
  {
   "cell_type": "code",
   "execution_count": null,
   "metadata": {},
   "outputs": [],
   "source": [
    "loadfiles = \"\"\"\n",
    "Pierrick_arc_24_07.16h16m05\n",
    "Pierrick_arc_24_07.16h22m36\n",
    "Pierrick_arc_24_07.16h28m29\n",
    "Pierrick_arc_24_07.16h35m53\n",
    "\"\"\".split()"
   ]
  },
  {
   "cell_type": "code",
   "execution_count": null,
   "metadata": {},
   "outputs": [],
   "source": [
    "alltrials = []\n",
    "alltrajectories = {}\n",
    "timestamps = []\n",
    "\n",
    "cumul_trial = 0\n",
    "for blocki,f in enumerate(loadfiles):\n",
    "    tab = pd.read_csv(pj(INPUT_DIR,f+\"_trials.txt\"),sep=' ')\n",
    "    tab[\"block\"]=blocki # the index of the block\n",
    "    \n",
    "    tab[\"cumul.trial\"]=cumul_trial+tab[\"trial\"]\n",
    "    cumul_trial=max(tab[\"cumul.trial\"])\n",
    "    \n",
    "    alltrials.append(tab)\n",
    "    \n",
    "    trial_to_cumul = dict(zip(tab[\"trial\"],tab[\"cumul.trial\"])) # which trial maps to which cumulative trial\n",
    "    \n",
    "    trajectories = pickle.load(open(pj(INPUT_DIR,f+\"_captured.pickle27\"),'rb'))\n",
    "    \n",
    "    # Now let's read the trajectories\n",
    "    for traj in trajectories:\n",
    "        tr = trial_to_cumul[traj[\"trial\"]]\n",
    "        alltrajectories[tr]=traj[\"trajectory\"]\n",
    "        timestamps.append({\"cumul.trial\":tr,\"timestamp\":traj[\"capture.t\"]})\n",
    "    \n",
    "alltrials = pd.merge(pd.concat(alltrials),pd.DataFrame(timestamps))\n",
    "\n",
    "# Make a cumulative trial numbering\n",
    "#alltrials[\"cumul.trial\"]=range(alltrials.shape[0])"
   ]
  },
  {
   "cell_type": "code",
   "execution_count": null,
   "metadata": {},
   "outputs": [],
   "source": [
    "alltrials.head()"
   ]
  },
  {
   "cell_type": "code",
   "execution_count": null,
   "metadata": {},
   "outputs": [],
   "source": []
  }
 ],
 "metadata": {
  "kernelspec": {
   "display_name": "Python 3",
   "language": "python",
   "name": "python3"
  },
  "language_info": {
   "codemirror_mode": {
    "name": "ipython",
    "version": 3
   },
   "file_extension": ".py",
   "mimetype": "text/x-python",
   "name": "python",
   "nbconvert_exporter": "python",
   "pygments_lexer": "ipython3",
   "version": "3.6.5"
  }
 },
 "nbformat": 4,
 "nbformat_minor": 2
}
