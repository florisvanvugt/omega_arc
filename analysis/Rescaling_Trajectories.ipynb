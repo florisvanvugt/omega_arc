{
 "cells": [
  {
   "cell_type": "code",
   "execution_count": null,
   "metadata": {},
   "outputs": [],
   "source": [
    "%pylab inline\n",
    "\n",
    "import os\n",
    "import pandas as pd\n",
    "import pickle\n",
    "pj = os.path.join\n",
    "import json\n",
    "\n",
    "import seaborn as sns\n",
    "sns.set(style=\"ticks\",font_scale=1.5,font='Helvetica')\n",
    "sns.set_palette(sns.hls_palette(8, l=.3, s=.8))\n",
    "\n",
    "from scipy.optimize import minimize"
   ]
  },
  {
   "cell_type": "code",
   "execution_count": null,
   "metadata": {},
   "outputs": [],
   "source": [
    "def draw_arc(ax):\n",
    "    \"\"\" \n",
    "    Draw a reference arc in a given plot\n",
    "    \"\"\"\n",
    "    col   = 'black'\n",
    "    alpha =.8\n",
    "    lw    = 2\n",
    "\n",
    "    circangs = linspace(0,2*pi,100)\n",
    "    \n",
    "    def arc(center,radius,angs):\n",
    "        cx,cy=center\n",
    "        ax.plot((cx+radius*cos(angs)),\n",
    "                (cy+radius*sin(angs)),color=col,alpha=alpha,lw=lw)\n",
    "        # What that factor 100 is doing in there? Converting m to cm.\n",
    "\n",
    "    arc(params[\"RIGHT_ORIGIN\"],params[\"TARGET_RADIUS\"],circangs)\n",
    "    arc(params[\"LEFT_ORIGIN\"] ,params[\"TARGET_RADIUS\"],circangs)    \n",
    "    \n",
    "    arc((params[\"ARC_BASE_X\"]-params[\"ARC_RADIUS_1\"],params[\"ARC_BASE_Y\"]),params[\"ARC_RADIUS_1\"],linspace(0,   pi,100))\n",
    "    arc((params[\"ARC_BASE_X\"]+params[\"ARC_RADIUS_2\"],params[\"ARC_BASE_Y\"]),params[\"ARC_RADIUS_2\"],linspace(pi,2*pi,100))\n",
    "    ax.set_aspect('equal')"
   ]
  },
  {
   "cell_type": "code",
   "execution_count": null,
   "metadata": {},
   "outputs": [],
   "source": [
    "import cPickle"
   ]
  },
  {
   "cell_type": "code",
   "execution_count": null,
   "metadata": {
    "scrolled": true
   },
   "outputs": [],
   "source": [
    "dat = cPickle.load(open('../data/gui6_arc_04_12.14h23m11_captured.pickle27','rb'))"
   ]
  },
  {
   "cell_type": "code",
   "execution_count": null,
   "metadata": {},
   "outputs": [],
   "source": [
    "# Also grab a parameter file while we are at it\n",
    "params = json.load(open('../data/gui6_arc_04_12.14h23m11_parameters.json'))\n",
    "# Convert m to cm\n",
    "for quant in [\"ARC_BASE_X\",\"ARC_BASE_Y\",\"ARC_RADIUS_1\",\"ARC_RADIUS_2\",\"RIGHT_ORIGIN\",\"LEFT_ORIGIN\",\"TARGET_RADIUS\"]:\n",
    "    params[quant]=100*array(params[quant])"
   ]
  },
  {
   "cell_type": "code",
   "execution_count": null,
   "metadata": {},
   "outputs": [],
   "source": [
    "#params"
   ]
  },
  {
   "cell_type": "code",
   "execution_count": null,
   "metadata": {},
   "outputs": [],
   "source": [
    "traj = dat[0][\"trajectory\"]\n",
    "traj = [ (100*x,100*y) for (_,x,y) in traj ] # now in cm"
   ]
  },
  {
   "cell_type": "code",
   "execution_count": null,
   "metadata": {},
   "outputs": [],
   "source": [
    "y,z = zip(*traj)\n",
    "f,ax = subplots(1,1,figsize=(10,5))\n",
    "draw_arc(ax)\n",
    "ax.plot(y,z)"
   ]
  },
  {
   "cell_type": "code",
   "execution_count": null,
   "metadata": {},
   "outputs": [],
   "source": [
    "def scale_traj(traj,f):\n",
    "    \"\"\" Scales the trajectory (pairs of (x,y) coordinates) by a given factor f,\n",
    "    from the starting point (first coordinate). \"\"\"\n",
    "    (x0,y0) = traj[0]\n",
    "    transl = [ (x-x0,y-y0) for (x,y) in traj ]\n",
    "    scal = [ (f*x,f*y) for (x,y) in transl ]    \n",
    "    return [ (x+x0,y+y0) for (x,y) in scal ]"
   ]
  },
  {
   "cell_type": "code",
   "execution_count": null,
   "metadata": {},
   "outputs": [],
   "source": [
    "y,z = zip(*traj)\n",
    "f,ax = subplots(1,1,figsize=(10,5))\n",
    "draw_arc(ax)\n",
    "\n",
    "sx,sy = zip(*scale_traj(zip(y,z),.6))\n",
    "ax.plot(sx,sy)"
   ]
  },
  {
   "cell_type": "code",
   "execution_count": null,
   "metadata": {},
   "outputs": [],
   "source": [
    "def in_start_target(x,y):\n",
    "    dleft  = sqrt(sum(pow(array([x,y])-array(params[\"LEFT_ORIGIN\"]),2)))\n",
    "    dright = sqrt(sum(pow(array([x,y])-array(params[\"RIGHT_ORIGIN\"]),2)))\n",
    "    return dleft<params[\"TARGET_RADIUS\"] or dright<params[\"TARGET_RADIUS\"]\n",
    "\n",
    "def distance_to_half_arc(x,y,cx,cy,rad,upper):\n",
    "    \"\"\" \n",
    "    Distance to an arc of a given radius around a given center point.\n",
    "    If upper=True, then the arc is the \"upper\" half of the circle, that is it extends to HIGHER y than cy\n",
    "    If upper=False, then the arc is the \"lower\" half of the circle, that is, it extends to LOWER y than cy\n",
    "    \"\"\"\n",
    "    # First, check that we are in the good half of the circle\n",
    "    goodhalf = (y>cy and upper) or (y<cy and not upper)\n",
    "    \n",
    "    if goodhalf:\n",
    "        dfromcenter= sqrt((x-cx)**2+(y-cy)**2)\n",
    "        return abs(dfromcenter-rad)\n",
    "\n",
    "    # else...\n",
    "    # In this case, the shortest distance to the arc is the shortest\n",
    "    # distance to the edges of the arc\n",
    "    dleftedge  = sqrt((x-(cx-rad))**2+(y-cy)**2)\n",
    "    drightedge = sqrt((x-(cx+rad))**2+(y-cy)**2)\n",
    "    return min([dleftedge,drightedge])\n",
    "\n",
    "def dist_from_arc(x,y):\n",
    "    \"\"\" Given a point x,y, compute the distance to the arc \"\"\"\n",
    "        \n",
    "    # First, let's see if we are in the starting zone or target zone\n",
    "    if in_start_target(x,y): return 0.\n",
    "    \n",
    "    dleft  = distance_to_half_arc(x,y,params[\"ARC_BASE_X\"]+params[\"ARC_RADIUS_2\"],params[\"ARC_BASE_Y\"],params[\"ARC_RADIUS_2\"],upper=False)\n",
    "    dright = distance_to_half_arc(x,y,params[\"ARC_BASE_X\"]-params[\"ARC_RADIUS_1\"],params[\"ARC_BASE_Y\"],params[\"ARC_RADIUS_1\"],upper=True)\n",
    "    return min([dleft,dright])\n",
    "\n",
    "\n",
    "def traj_mean_dist(traj):\n",
    "    \"\"\" Given a trajectory, compute the mean distance to the target arc. \"\"\"\n",
    "    dists = [ dist_from_arc(x,y) for (x,y) in traj ]\n",
    "    return mean(dists)"
   ]
  },
  {
   "cell_type": "code",
   "execution_count": null,
   "metadata": {},
   "outputs": [],
   "source": [
    "traj_mean_dist(traj) # for the original trajectory"
   ]
  },
  {
   "cell_type": "code",
   "execution_count": null,
   "metadata": {},
   "outputs": [],
   "source": [
    "traj_mean_dist(scale_traj(traj,.6))"
   ]
  },
  {
   "cell_type": "code",
   "execution_count": null,
   "metadata": {},
   "outputs": [],
   "source": [
    "def scale_dist(traj,f):\n",
    "    return traj_mean_dist(scale_traj(traj,f))"
   ]
  },
  {
   "cell_type": "code",
   "execution_count": null,
   "metadata": {},
   "outputs": [],
   "source": [
    "scale_dist(traj,1)"
   ]
  },
  {
   "cell_type": "code",
   "execution_count": null,
   "metadata": {},
   "outputs": [],
   "source": [
    "res = minimize(lambda f : scale_dist(traj,f), \n",
    "               1, # initial guess\n",
    "               method='nelder-mead', options={'xtol': 1e-8, 'disp': True})"
   ]
  },
  {
   "cell_type": "code",
   "execution_count": null,
   "metadata": {},
   "outputs": [],
   "source": [
    "res[\"x\"] # the optimal factor"
   ]
  },
  {
   "cell_type": "code",
   "execution_count": null,
   "metadata": {},
   "outputs": [],
   "source": [
    "res[\"fun\"] # the cost at that point (mean dist)"
   ]
  },
  {
   "cell_type": "code",
   "execution_count": null,
   "metadata": {},
   "outputs": [],
   "source": [
    "x,y = zip(*traj)\n",
    "f,ax = subplots(1,1,figsize=(10,5))\n",
    "draw_arc(ax)\n",
    "ax.plot(x,y,'-',color='blue') # original trajectory\n",
    "\n",
    "sx,sy = zip(*scale_traj(traj,res[\"x\"]))\n",
    "ax.plot(sx,sy,'-',color='red') # original trajectory\n"
   ]
  }
 ],
 "metadata": {
  "kernelspec": {
   "display_name": "Python 2",
   "language": "python",
   "name": "python2"
  },
  "language_info": {
   "codemirror_mode": {
    "name": "ipython",
    "version": 2
   },
   "file_extension": ".py",
   "mimetype": "text/x-python",
   "name": "python",
   "nbconvert_exporter": "python",
   "pygments_lexer": "ipython2",
   "version": "2.7.15rc1"
  }
 },
 "nbformat": 4,
 "nbformat_minor": 2
}
