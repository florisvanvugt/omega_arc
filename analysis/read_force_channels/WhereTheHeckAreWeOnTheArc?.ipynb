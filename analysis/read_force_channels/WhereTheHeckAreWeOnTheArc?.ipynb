{
 "cells": [
  {
   "cell_type": "markdown",
   "metadata": {},
   "source": [
    "Okay, so given an arc (two half circles), and an arbitrary position in the plane, can we determine \"where\" on the arc we are, from 0 meaning at the start, to 1 meaning at the target (end) position?\n",
    "\n",
    "The answer is yes we can, but how...?"
   ]
  },
  {
   "cell_type": "code",
   "execution_count": 1,
   "metadata": {},
   "outputs": [
    {
     "name": "stdout",
     "output_type": "stream",
     "text": [
      "Populating the interactive namespace from numpy and matplotlib\n"
     ]
    }
   ],
   "source": [
    "%pylab inline\n",
    "import json\n",
    "import os\n",
    "import numpy as np\n",
    "import pickle\n",
    "import seaborn as sns"
   ]
  },
  {
   "cell_type": "code",
   "execution_count": 2,
   "metadata": {},
   "outputs": [
    {
     "ename": "IOError",
     "evalue": "[Errno 2] No such file or directory: 'neeraj/neeraj_1_arc_28_01.14h05m34_parameters.json'",
     "output_type": "error",
     "traceback": [
      "\u001b[0;31m---------------------------------------------------------------------------\u001b[0m",
      "\u001b[0;31mIOError\u001b[0m                                   Traceback (most recent call last)",
      "\u001b[0;32m<ipython-input-2-5d520980e897>\u001b[0m in \u001b[0;36m<module>\u001b[0;34m()\u001b[0m\n\u001b[1;32m      1\u001b[0m \u001b[0;31m# Also grab a parameter file while we are at it\u001b[0m\u001b[0;34m\u001b[0m\u001b[0;34m\u001b[0m\u001b[0m\n\u001b[1;32m      2\u001b[0m \u001b[0mPREFIX\u001b[0m \u001b[0;34m=\u001b[0m \u001b[0;34m'neeraj/neeraj_1_arc_28_01.14h05m34'\u001b[0m\u001b[0;34m\u001b[0m\u001b[0m\n\u001b[0;32m----> 3\u001b[0;31m \u001b[0mparams\u001b[0m \u001b[0;34m=\u001b[0m \u001b[0mjson\u001b[0m\u001b[0;34m.\u001b[0m\u001b[0mload\u001b[0m\u001b[0;34m(\u001b[0m\u001b[0mopen\u001b[0m\u001b[0;34m(\u001b[0m\u001b[0mPREFIX\u001b[0m\u001b[0;34m+\u001b[0m\u001b[0;34m'_parameters.json'\u001b[0m\u001b[0;34m)\u001b[0m\u001b[0;34m)\u001b[0m\u001b[0;34m\u001b[0m\u001b[0m\n\u001b[0m\u001b[1;32m      4\u001b[0m \u001b[0;31m# Convert m to cm\u001b[0m\u001b[0;34m\u001b[0m\u001b[0;34m\u001b[0m\u001b[0m\n\u001b[1;32m      5\u001b[0m \u001b[0;32mfor\u001b[0m \u001b[0mquant\u001b[0m \u001b[0;32min\u001b[0m \u001b[0;34m[\u001b[0m\u001b[0;34m\"ARC_BASE_X\"\u001b[0m\u001b[0;34m,\u001b[0m\u001b[0;34m\"ARC_BASE_Y\"\u001b[0m\u001b[0;34m,\u001b[0m\u001b[0;34m\"ARC_RADIUS_1\"\u001b[0m\u001b[0;34m,\u001b[0m\u001b[0;34m\"ARC_RADIUS_2\"\u001b[0m\u001b[0;34m,\u001b[0m\u001b[0;34m\"RIGHT_ORIGIN\"\u001b[0m\u001b[0;34m,\u001b[0m\u001b[0;34m\"LEFT_ORIGIN\"\u001b[0m\u001b[0;34m,\u001b[0m\u001b[0;34m\"TARGET_RADIUS\"\u001b[0m\u001b[0;34m]\u001b[0m\u001b[0;34m:\u001b[0m\u001b[0;34m\u001b[0m\u001b[0m\n",
      "\u001b[0;31mIOError\u001b[0m: [Errno 2] No such file or directory: 'neeraj/neeraj_1_arc_28_01.14h05m34_parameters.json'"
     ]
    }
   ],
   "source": [
    "# Also grab a parameter file while we are at it\n",
    "PREFIX = 'neeraj/neeraj_1_arc_28_01.14h05m34'\n",
    "params = json.load(open(PREFIX+'_parameters.json'))\n",
    "# Convert m to cm\n",
    "for quant in [\"ARC_BASE_X\",\"ARC_BASE_Y\",\"ARC_RADIUS_1\",\"ARC_RADIUS_2\",\"RIGHT_ORIGIN\",\"LEFT_ORIGIN\",\"TARGET_RADIUS\"]:\n",
    "    params[quant]=100*array(params[quant])"
   ]
  },
  {
   "cell_type": "code",
   "execution_count": null,
   "metadata": {},
   "outputs": [],
   "source": [
    "def distance_to_arc(x,y,cx,cy,rad,upper):\n",
    "    \"\"\" \n",
    "    Distance to an arc of a given radius around a given center point.\n",
    "    If upper=True, then the arc is the \"upper\" half of the circle, that is it extends to HIGHER y than cy\n",
    "    If upper=False, then the arc is the \"lower\" half of the circle, that is, it extends to LOWER y than cy\n",
    "    \"\"\"\n",
    "    # First, check that we are in the good half of the circle\n",
    "    goodhalf = (y>cy and upper) or (y<cy and not upper)\n",
    "    \n",
    "    if goodhalf:\n",
    "        dfromcenter= sqrt((x-cx)**2+(y-cy)**2)\n",
    "        return abs(dfromcenter-rad)\n",
    "\n",
    "    # else...\n",
    "    # In this case, the shortest distance to the arc is the shortest\n",
    "    # distance to the edges of the arc\n",
    "    dleftedge  = sqrt((x-(cx-rad))**2+(y-cy)**2)\n",
    "    drightedge = sqrt((x-(cx+rad))**2+(y-cy)**2)\n",
    "    return min([dleftedge,drightedge])"
   ]
  },
  {
   "cell_type": "code",
   "execution_count": null,
   "metadata": {},
   "outputs": [],
   "source": [
    "def draw_arc(ax):\n",
    "    \"\"\" \n",
    "    Draw a reference arc in a given plot\n",
    "    \"\"\"\n",
    "    col   = 'black'\n",
    "    alpha =.8\n",
    "    lw    = 2\n",
    "\n",
    "    circangs = linspace(0,2*pi,100)\n",
    "    \n",
    "    def arc(center,radius,angs):\n",
    "        cx,cy=center\n",
    "        ax.plot((cx+radius*cos(angs)),\n",
    "                (cy+radius*sin(angs)),color=col,alpha=alpha,lw=lw)\n",
    "        # What that factor 100 is doing in there? Converting m to cm.\n",
    "\n",
    "    arc(params[\"RIGHT_ORIGIN\"],params[\"TARGET_RADIUS\"],circangs)\n",
    "    arc(params[\"LEFT_ORIGIN\"] ,params[\"TARGET_RADIUS\"],circangs)    \n",
    "    \n",
    "    arc((params[\"ARC_BASE_X\"]-params[\"ARC_RADIUS_1\"],params[\"ARC_BASE_Y\"]),params[\"ARC_RADIUS_1\"],linspace(0,   pi,100))\n",
    "    arc((params[\"ARC_BASE_X\"]+params[\"ARC_RADIUS_2\"],params[\"ARC_BASE_Y\"]),params[\"ARC_RADIUS_2\"],linspace(pi,2*pi,100))\n",
    "    ax.set_aspect('equal')"
   ]
  },
  {
   "cell_type": "code",
   "execution_count": null,
   "metadata": {},
   "outputs": [],
   "source": [
    "def halfcircle_progress(x,y,cx,cy,rad,upper):\n",
    "    \"\"\" Compute the progress along a half-circle defined by center cx,cy and radius, upper \"\"\"\n",
    "    dx,dy = x-cx,y-cy\n",
    "    dy = -dy if not upper else dy\n",
    "    a = np.arctan2(dy,dx)/(2*np.pi)\n",
    "    if a<-.25: a+=1 # and a>-.25: a+=1\n",
    "    return a"
   ]
  },
  {
   "cell_type": "code",
   "execution_count": null,
   "metadata": {},
   "outputs": [],
   "source": [
    "def arc_progress(x,y):\n",
    "    \"\"\" This tells us, how much 'progress' the subject has made at this current (x,y) position.\n",
    "    So when they are at the starting point, the progress will be 0 and in the target, the progress will be 1.\n",
    "    This is assuming that the subject starts at the right start circle and moves to the left.\n",
    "    \"\"\"\n",
    "    \n",
    "    # Step 1: determine which half-arc (half-circle) the subject is closest to\n",
    "    arcs = [ \n",
    "        (params[\"ARC_BASE_X\"]+params[\"ARC_RADIUS_2\"],params[\"ARC_BASE_Y\"],params[\"ARC_RADIUS_2\"],False),\n",
    "        (params[\"ARC_BASE_X\"]-params[\"ARC_RADIUS_1\"],params[\"ARC_BASE_Y\"],params[\"ARC_RADIUS_1\"],True)\n",
    "        # the last argument in the above tuples tells us whether it's an 'upward' half circle or downward.\n",
    "           ]\n",
    "    \n",
    "    ds = [ distance_to_arc(x,y,cx,cy,rad,upper) for (cx,cy,rad,upper) in arcs ]\n",
    "    curarc = argmin(ds)\n",
    "    \n",
    "    # Step 2: for the circle that they are closest to, compute the progress along this half-circle\\\n",
    "    cx,cy,rad,upper = arcs[curarc]\n",
    "    p = halfcircle_progress(x,y,cx,cy,rad,upper)+.5*curarc\n",
    "    \n",
    "    return p"
   ]
  },
  {
   "cell_type": "code",
   "execution_count": null,
   "metadata": {},
   "outputs": [],
   "source": [
    "#f,ax = subplots(1,1)\n",
    "#draw_arc(ax)\n",
    "arctan2(-.01,-1)"
   ]
  },
  {
   "cell_type": "code",
   "execution_count": null,
   "metadata": {},
   "outputs": [],
   "source": [
    "f,ax=subplots(1,1,figsize=(8,5))\n",
    "draw_arc(ax)\n",
    "#ax.plot(y,z,'-',lw=2,color='blue')\n",
    "ds = [ (arc_progress(yi,zi),yi,zi) \n",
    "      for yi in linspace(-1.5,1.5,100)\n",
    "      for zi in linspace(-1,1,100) ]\n",
    "dz,yz,zz = zip(*ds)\n",
    "plt.scatter(yz,zz,c=dz,s=50,cmap='jet')\n",
    "#for _,yi,zi in traj[::20]:\n",
    "#    d = dist_from_arc(yi,zi)\n",
    "#    ax.plot(yi,zi,'o',color=(d*4,0,0),mec='black',mew=1,markersize=10)\n",
    "tight_layout()\n",
    "sns.despine(offset=5,trim=True)\n",
    "colorbar()"
   ]
  }
 ],
 "metadata": {
  "kernelspec": {
   "display_name": "Python 2",
   "language": "python",
   "name": "python2"
  },
  "language_info": {
   "codemirror_mode": {
    "name": "ipython",
    "version": 2
   },
   "file_extension": ".py",
   "mimetype": "text/x-python",
   "name": "python",
   "nbconvert_exporter": "python",
   "pygments_lexer": "ipython2",
   "version": "2.7.15rc1"
  }
 },
 "nbformat": 4,
 "nbformat_minor": 2
}
