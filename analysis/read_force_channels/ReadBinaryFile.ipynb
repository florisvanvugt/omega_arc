{
 "cells": [
  {
   "cell_type": "code",
   "execution_count": null,
   "metadata": {},
   "outputs": [],
   "source": [
    "%pylab inline"
   ]
  },
  {
   "cell_type": "markdown",
   "metadata": {},
   "source": [
    "TODO:\n",
    "    \n",
    "**Smoothing of the FT trace**"
   ]
  },
  {
   "cell_type": "code",
   "execution_count": null,
   "metadata": {},
   "outputs": [],
   "source": [
    "import pandas as pd\n",
    "import pickle\n",
    "import json\n",
    "import os\n",
    "import numpy as np\n",
    "import seaborn as sns"
   ]
  },
  {
   "cell_type": "code",
   "execution_count": null,
   "metadata": {},
   "outputs": [],
   "source": [
    "#N_TRIALS = 10\n",
    "TRIALS = range(1,11)"
   ]
  },
  {
   "cell_type": "code",
   "execution_count": null,
   "metadata": {},
   "outputs": [],
   "source": [
    "SAMPLING_RATE = 1000."
   ]
  },
  {
   "cell_type": "code",
   "execution_count": null,
   "metadata": {},
   "outputs": [],
   "source": [
    "columns = 'fx fy fz tx ty tz'.split()"
   ]
  },
  {
   "cell_type": "code",
   "execution_count": null,
   "metadata": {},
   "outputs": [],
   "source": [
    "NCHANNELS = 16"
   ]
  },
  {
   "cell_type": "code",
   "execution_count": null,
   "metadata": {},
   "outputs": [],
   "source": [
    "FADE_TIME = .5 # conf[\"FADE_TIME\"] in the experimental script"
   ]
  },
  {
   "cell_type": "code",
   "execution_count": null,
   "metadata": {},
   "outputs": [],
   "source": [
    "CHANNEL_TO_G_MAPPING = [ (0,8), (1,9), (2,10), (3,11), (4,12), (5,13) ]\n",
    "# Each pair (i,j) tells us that to get the corresponding G value, \n",
    "# you need to subtract the j-th channel from the i-th channel"
   ]
  },
  {
   "cell_type": "code",
   "execution_count": null,
   "metadata": {},
   "outputs": [],
   "source": [
    "sensmat = np.loadtxt('../../materials/sensor_transf_matrix_FT4714.csv',delimiter=',')"
   ]
  },
  {
   "cell_type": "code",
   "execution_count": null,
   "metadata": {},
   "outputs": [],
   "source": [
    "sensmat"
   ]
  },
  {
   "cell_type": "code",
   "execution_count": null,
   "metadata": {},
   "outputs": [],
   "source": [
    "PREFIX = 'fttest/fttest_1_arc_29_01.15h08m20'"
   ]
  },
  {
   "cell_type": "code",
   "execution_count": null,
   "metadata": {},
   "outputs": [],
   "source": [
    "def extract_Gs(dat):\n",
    "    dat = np.array(dat)\n",
    "    nsamp = int(floor(len(dat)/NCHANNELS)) # this will actually be exact\n",
    "    captured = dat[ :(nsamp*NCHANNELS) ].reshape(nsamp,NCHANNELS)\n",
    "    Gs = array([ captured[:,i]-captured[:,j] for (i,j) in CHANNEL_TO_G_MAPPING ]).T  # nsamples x 6\n",
    "    return Gs"
   ]
  },
  {
   "cell_type": "code",
   "execution_count": null,
   "metadata": {},
   "outputs": [],
   "source": [
    "biasrec = '%s__bias_holding.bin'%PREFIX"
   ]
  },
  {
   "cell_type": "code",
   "execution_count": null,
   "metadata": {},
   "outputs": [],
   "source": [
    "b = pickle.load(open(biasrec,'rb'))\n",
    "biasraw = extract_Gs(b['ft'])\n",
    "biasG = mean(biasraw[1000:,:],axis=0)   # TODO: take just the non-NA values here for taking the mean"
   ]
  },
  {
   "cell_type": "markdown",
   "metadata": {},
   "source": [
    "### Let's read the trial information"
   ]
  },
  {
   "cell_type": "code",
   "execution_count": null,
   "metadata": {},
   "outputs": [],
   "source": [
    "trialdat = pd.read_csv('%s_trials.txt'%PREFIX,sep=' ')\n",
    "trialdat['t.stay']=trialdat['t.go']-FADE_TIME"
   ]
  },
  {
   "cell_type": "code",
   "execution_count": null,
   "metadata": {},
   "outputs": [],
   "source": [
    "trajectories = pickle.load(open('%s_captured.pickle27'%PREFIX,'rb'))"
   ]
  },
  {
   "cell_type": "code",
   "execution_count": null,
   "metadata": {},
   "outputs": [],
   "source": [
    "def get_trial_data(tr):\n",
    "    \"\"\" Get the data for a given trial, both the trial characteristics, trajectory and force trace \"\"\"\n",
    "    trj = [ t for t in trajectories if t['trial']==tr ][0]\n",
    "    #ft  = allft[tr]\n",
    "    return trialdat[ trialdat['trial']==tr ].iloc[0],trj"
   ]
  },
  {
   "cell_type": "code",
   "execution_count": null,
   "metadata": {},
   "outputs": [],
   "source": [
    "preproc = []\n",
    "for tr in TRIALS:\n",
    "    \n",
    "    trialinfo,capt = get_trial_data(tr)\n",
    "    \n",
    "    traj = capt['trajectory'] # a trace of the positions\n",
    "    \n",
    "    Gs   = extract_Gs(capt['ft'])\n",
    "    # Subtract bias\n",
    "    G = Gs-biasG\n",
    "    \n",
    "    # Push through the sensor matrix to get the forces/torques\n",
    "    Fs = sensmat.dot(G.T) ## TODO: is sensmat the 'right' way around?\n",
    "    \n",
    "    tab = pd.DataFrame(Fs.T)\n",
    "    tab.columns=columns\n",
    "    \n",
    "    #traj = pd.DataFrame(traj)\n",
    "    assert len(traj) == tab.shape[0] # the position record and the FT record should have the same # of samples\n",
    "    \n",
    "    xyz = zip(*traj)\n",
    "    for i,dm in enumerate(['x','y','z']):\n",
    "        tab[dm]=xyz[i]\n",
    "        \n",
    "    tab['fy']=-tab['fy'] # swap the y (sideways) force because the robot counts it different from the FT sensor\n",
    "    \n",
    "    tab['trial']=trialinfo['trial']\n",
    "    direction = 'left' if tab['y'].iloc[0]>0 else 'right'\n",
    "    tab['direction'] = direction\n",
    "    tab['t']=arange(tab.shape[0])/SAMPLING_RATE\n",
    "    \n",
    "    preproc.append(tab)\n",
    "    \n",
    "preproc=pd.concat(preproc)"
   ]
  },
  {
   "cell_type": "code",
   "execution_count": null,
   "metadata": {},
   "outputs": [],
   "source": [
    "preproc"
   ]
  },
  {
   "cell_type": "markdown",
   "metadata": {},
   "source": [
    "## Determine where you are on the arc"
   ]
  },
  {
   "cell_type": "markdown",
   "metadata": {},
   "source": [
    "Code here below comes from the notebook `WhereTheHeckAreWeOnTheArc?`."
   ]
  },
  {
   "cell_type": "code",
   "execution_count": null,
   "metadata": {},
   "outputs": [],
   "source": [
    "# Also grab a parameter file while we are at it\n",
    "#PREFIX = 'neeraj/neeraj_1_arc_28_01.14h05m34'\n",
    "params = json.load(open(PREFIX+'_parameters.json'))\n",
    "# Convert m to cm\n",
    "for quant in [\"ARC_BASE_X\",\"ARC_BASE_Y\",\"ARC_RADIUS_1\",\"ARC_RADIUS_2\",\"RIGHT_ORIGIN\",\"LEFT_ORIGIN\",\"TARGET_RADIUS\"]:\n",
    "    params[quant]=100*array(params[quant])"
   ]
  },
  {
   "cell_type": "code",
   "execution_count": null,
   "metadata": {},
   "outputs": [],
   "source": [
    "def distance_to_arc(x,y,cx,cy,rad,upper):\n",
    "    \"\"\" \n",
    "    Distance to an arc of a given radius around a given center point.\n",
    "    If upper=True, then the arc is the \"upper\" half of the circle, that is it extends to HIGHER y than cy\n",
    "    If upper=False, then the arc is the \"lower\" half of the circle, that is, it extends to LOWER y than cy\n",
    "    \"\"\"\n",
    "    # First, check that we are in the good half of the circle\n",
    "    goodhalf = (y>cy and upper) or (y<cy and not upper)\n",
    "    \n",
    "    if goodhalf:\n",
    "        dfromcenter= sqrt((x-cx)**2+(y-cy)**2)\n",
    "        return abs(dfromcenter-rad)\n",
    "\n",
    "    # else...\n",
    "    # In this case, the shortest distance to the arc is the shortest\n",
    "    # distance to the edges of the arc\n",
    "    dleftedge  = sqrt((x-(cx-rad))**2+(y-cy)**2)\n",
    "    drightedge = sqrt((x-(cx+rad))**2+(y-cy)**2)\n",
    "    return min([dleftedge,drightedge])\n",
    "\n",
    "\n",
    "def halfcircle_progress(x,y,cx,cy,rad,upper):\n",
    "    \"\"\" Compute the progress along a half-circle defined by center cx,cy and radius, upper \"\"\"\n",
    "    dx,dy = x-cx,y-cy\n",
    "    dy = -dy if not upper else dy\n",
    "    a = np.arctan2(dy,dx)/(2*np.pi)\n",
    "    if a<-.25: a+=1 # and a>-.25: a+=1\n",
    "    return a\n",
    "\n",
    "\n",
    "def arc_progress(x,y):\n",
    "    \"\"\" This tells us, how much 'progress' the subject has made at this current (x,y) position.\n",
    "    So when they are at the starting point, the progress will be 0 and in the target, the progress will be 1.\n",
    "    This is assuming that the subject starts at the right start circle and moves to the left.\n",
    "    \"\"\"\n",
    "    \n",
    "    # Step 1: determine which half-arc (half-circle) the subject is closest to\n",
    "    arcs = [ \n",
    "        (params[\"ARC_BASE_X\"]+params[\"ARC_RADIUS_2\"],params[\"ARC_BASE_Y\"],params[\"ARC_RADIUS_2\"],False),\n",
    "        (params[\"ARC_BASE_X\"]-params[\"ARC_RADIUS_1\"],params[\"ARC_BASE_Y\"],params[\"ARC_RADIUS_1\"],True)\n",
    "        # the last argument in the above tuples tells us whether it's an 'upward' half circle or downward.\n",
    "           ]\n",
    "    \n",
    "    ds = [ distance_to_arc(x,y,cx,cy,rad,upper) for (cx,cy,rad,upper) in arcs ]\n",
    "    curarc = argmin(ds)\n",
    "    \n",
    "    # Step 2: for the circle that they are closest to, compute the progress along this half-circle\\\n",
    "    cx,cy,rad,upper = arcs[curarc]\n",
    "    p = halfcircle_progress(x,y,cx,cy,rad,upper)+.5*curarc\n",
    "    \n",
    "    return p"
   ]
  },
  {
   "cell_type": "code",
   "execution_count": null,
   "metadata": {},
   "outputs": [],
   "source": [
    "#trialinfo\n",
    "preproc['arc.progress'] = [ arc_progress(y,z) for (y,z) in zip(100*preproc['y'],100*preproc['z']) ] "
   ]
  },
  {
   "cell_type": "code",
   "execution_count": null,
   "metadata": {},
   "outputs": [],
   "source": [
    "dircol = {'left':'blue','right':'red'}\n",
    "for (tr,dr),ft in preproc.groupby(['trial','direction']):\n",
    "    plot(ft['arc.progress'],color=dircol[dr])\n",
    "sns.despine(offset=5)"
   ]
  },
  {
   "cell_type": "code",
   "execution_count": null,
   "metadata": {},
   "outputs": [],
   "source": [
    "fs = ['fx','fy','fz']\n",
    "directions = ['left','right']\n",
    "\n",
    "f,axs = subplots(len(fs),len(directions),sharex=True,figsize=(10,8))\n",
    "\n",
    "for (tr,dr),ft in preproc.groupby(['trial','direction']):\n",
    "    \n",
    "    j = directions.index(dr)\n",
    "    for i,f in enumerate(fs):\n",
    "        \n",
    "        ax = axs[i][j]\n",
    "        ax.plot(ft['arc.progress'],ft[f])\n",
    "        \n",
    "        ax.set_title(\"%s %s\"%(f,dr))\n",
    "        #ax.plot([])"
   ]
  },
  {
   "cell_type": "markdown",
   "metadata": {},
   "source": [
    "### Now divide the space into sectors and then average the force"
   ]
  },
  {
   "cell_type": "code",
   "execution_count": null,
   "metadata": {},
   "outputs": [],
   "source": [
    "NSECTORS = 16\n",
    "\n",
    "sectors = linspace(0,1,NSECTORS)\n"
   ]
  },
  {
   "cell_type": "code",
   "execution_count": null,
   "metadata": {},
   "outputs": [],
   "source": [
    "sectors"
   ]
  },
  {
   "cell_type": "code",
   "execution_count": null,
   "metadata": {},
   "outputs": [],
   "source": [
    "def which_sector(p):\n",
    "    return argmin([ abs(s-p) for s in sectors ])"
   ]
  },
  {
   "cell_type": "code",
   "execution_count": null,
   "metadata": {},
   "outputs": [],
   "source": [
    "preproc['sector']=[ which_sector(p) for p in preproc['arc.progress'] ]"
   ]
  },
  {
   "cell_type": "code",
   "execution_count": null,
   "metadata": {},
   "outputs": [],
   "source": [
    "preproc"
   ]
  },
  {
   "cell_type": "code",
   "execution_count": null,
   "metadata": {},
   "outputs": [],
   "source": [
    "fsect = preproc.groupby(['sector','direction']).agg({'fx':mean,'fy':mean,'fz':mean}).reset_index()\n",
    "fsect['arc.progress']= [ sectors[s] for s in fsect['sector']]"
   ]
  },
  {
   "cell_type": "code",
   "execution_count": null,
   "metadata": {},
   "outputs": [],
   "source": [
    "fsect"
   ]
  },
  {
   "cell_type": "markdown",
   "metadata": {},
   "source": [
    "Now let's convert the arc progress into a position again!"
   ]
  },
  {
   "cell_type": "code",
   "execution_count": null,
   "metadata": {},
   "outputs": [],
   "source": [
    "def progress_to_pos(p):\n",
    "    \"\"\" Figure out the position corresponding to the 'progress' variable. \"\"\"\n",
    "    \n",
    "    def halfcirc_pos(p,arcinfo):\n",
    "        cx,cy,radius,upper = arcinfo\n",
    "        a = p*2*pi # the angle so far\n",
    "        dx,dy = radius*np.cos(a),radius*np.sin(a)\n",
    "        if not upper:\n",
    "            dy = -dy\n",
    "        return cx+dx,cy+dy\n",
    "\n",
    "     # Step 1: determine which half-arc (half-circle) the subject is closest to\n",
    "    arcs = [ \n",
    "        (params[\"ARC_BASE_X\"]+params[\"ARC_RADIUS_2\"],params[\"ARC_BASE_Y\"],params[\"ARC_RADIUS_2\"],False),\n",
    "        (params[\"ARC_BASE_X\"]-params[\"ARC_RADIUS_1\"],params[\"ARC_BASE_Y\"],params[\"ARC_RADIUS_1\"],True)\n",
    "        # the last argument in the above tuples tells us whether it's an 'upward' half circle or downward.\n",
    "           ]\n",
    "    if p<.5:\n",
    "        return halfcirc_pos(p,arcs[0])\n",
    "    else:\n",
    "        return halfcirc_pos(p-.5,arcs[1])"
   ]
  },
  {
   "cell_type": "code",
   "execution_count": null,
   "metadata": {},
   "outputs": [],
   "source": [
    "x,y = zip(*[progress_to_pos(p) for p in fsect['arc.progress']])\n",
    "fsect['x']=x\n",
    "fsect['y']=y"
   ]
  },
  {
   "cell_type": "code",
   "execution_count": null,
   "metadata": {},
   "outputs": [],
   "source": [
    "fsect"
   ]
  },
  {
   "cell_type": "code",
   "execution_count": null,
   "metadata": {},
   "outputs": [],
   "source": [
    "def draw_arc(ax):\n",
    "    \"\"\" \n",
    "    Draw a reference arc in a given plot\n",
    "    \"\"\"\n",
    "    col   = 'black'\n",
    "    alpha =.3\n",
    "    lw    = 2\n",
    "\n",
    "    circangs = linspace(0,2*pi,100)\n",
    "    \n",
    "    def arc(center,radius,angs):\n",
    "        cx,cy=center\n",
    "        ax.plot((cx+radius*cos(angs)),\n",
    "                (cy+radius*sin(angs)),color=col,alpha=alpha,lw=lw)\n",
    "        # What that factor 100 is doing in there? Converting m to cm.\n",
    "\n",
    "    arc(params[\"RIGHT_ORIGIN\"],params[\"TARGET_RADIUS\"],circangs)\n",
    "    arc(params[\"LEFT_ORIGIN\"] ,params[\"TARGET_RADIUS\"],circangs)    \n",
    "    \n",
    "    arc((params[\"ARC_BASE_X\"]-params[\"ARC_RADIUS_1\"],params[\"ARC_BASE_Y\"]),params[\"ARC_RADIUS_1\"],linspace(0,   pi,100))\n",
    "    arc((params[\"ARC_BASE_X\"]+params[\"ARC_RADIUS_2\"],params[\"ARC_BASE_Y\"]),params[\"ARC_RADIUS_2\"],linspace(pi,2*pi,100))\n",
    "    ax.set_aspect('equal')"
   ]
  },
  {
   "cell_type": "code",
   "execution_count": null,
   "metadata": {},
   "outputs": [],
   "source": [
    "fmagnif = .5\n",
    "directions = ['left','right']\n",
    "\n",
    "f,axs = subplots(1,2,figsize=(13,5))\n",
    "for i,ax in enumerate(axs):\n",
    "    draw_arc(ax)\n",
    "    ax.set_title(directions[i])\n",
    "\n",
    "for d,grp in fsect.groupby('direction'):\n",
    "    ax = axs[directions.index(d)]\n",
    "    for i,row in grp.iterrows():\n",
    "        #if True:\n",
    "        if True:\n",
    "            ax.plot(row['x'],row['y'],'o',color='black')\n",
    "            #ax.text(row['x'],row['y'],row['arc.progress'])\n",
    "            ax.arrow(row['x'],row['y'],\n",
    "                     fmagnif*row['fy'],\n",
    "                     fmagnif*row['fz'],head_width=0.05, head_length=0.1)\n",
    "            \n",
    "for ax in axs:\n",
    "    ax.set_aspect('equal')\n",
    "    ax.set_xlim(-2,2)\n",
    "    ax.set_ylim(-1.5,1.5)\n",
    "    \n",
    "tight_layout()\n",
    "sns.despine(offset=5)"
   ]
  },
  {
   "cell_type": "markdown",
   "metadata": {},
   "source": [
    "**NOTE** The horizontal forces have been INVERTED, it is important to check that this is accurate!!"
   ]
  }
 ],
 "metadata": {
  "kernelspec": {
   "display_name": "Python 2",
   "language": "python",
   "name": "python2"
  },
  "language_info": {
   "codemirror_mode": {
    "name": "ipython",
    "version": 2
   },
   "file_extension": ".py",
   "mimetype": "text/x-python",
   "name": "python",
   "nbconvert_exporter": "python",
   "pygments_lexer": "ipython2",
   "version": "2.7.12"
  }
 },
 "nbformat": 4,
 "nbformat_minor": 2
}
