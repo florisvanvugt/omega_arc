{
 "cells": [
  {
   "cell_type": "code",
   "execution_count": null,
   "metadata": {},
   "outputs": [],
   "source": [
    "%pylab inline\n",
    "\n",
    "import ipywidgets"
   ]
  },
  {
   "cell_type": "markdown",
   "metadata": {},
   "source": [
    "TODO:\n",
    "    \n",
    "**Smoothing of the FT trace**"
   ]
  },
  {
   "cell_type": "code",
   "execution_count": null,
   "metadata": {},
   "outputs": [],
   "source": [
    "import pandas as pd\n",
    "import pickle\n",
    "import json\n",
    "import os\n",
    "import numpy as np\n",
    "import seaborn as sns"
   ]
  },
  {
   "cell_type": "code",
   "execution_count": null,
   "metadata": {},
   "outputs": [],
   "source": [
    "#N_TRIALS = 10\n",
    "TRIALS = range(1,11)"
   ]
  },
  {
   "cell_type": "code",
   "execution_count": null,
   "metadata": {},
   "outputs": [],
   "source": [
    "SAMPLING_RATE = 1000."
   ]
  },
  {
   "cell_type": "code",
   "execution_count": null,
   "metadata": {},
   "outputs": [],
   "source": [
    "columns = 'fx fy fz tx ty tz'.split()"
   ]
  },
  {
   "cell_type": "code",
   "execution_count": null,
   "metadata": {},
   "outputs": [],
   "source": [
    "NCHANNELS = 16"
   ]
  },
  {
   "cell_type": "code",
   "execution_count": null,
   "metadata": {},
   "outputs": [],
   "source": [
    "FADE_TIME = .5 # conf[\"FADE_TIME\"] in the experimental script"
   ]
  },
  {
   "cell_type": "code",
   "execution_count": null,
   "metadata": {},
   "outputs": [],
   "source": [
    "TRAJ_MULTIPLIER = 100 # we multiply trajectory traces by a number so that they are not too small (this gives problems later on with fitting etc.)"
   ]
  },
  {
   "cell_type": "code",
   "execution_count": null,
   "metadata": {},
   "outputs": [],
   "source": [
    "CHANNEL_TO_G_MAPPING = [ (0,8), (1,9), (2,10), (3,11), (4,12), (5,13) ]\n",
    "# Each pair (i,j) tells us that to get the corresponding G value, \n",
    "# you need to subtract the j-th channel from the i-th channel"
   ]
  },
  {
   "cell_type": "code",
   "execution_count": null,
   "metadata": {},
   "outputs": [],
   "source": [
    "sensmat = np.loadtxt('../../materials/sensor_transf_matrix_FT4714.csv',delimiter=',')"
   ]
  },
  {
   "cell_type": "code",
   "execution_count": null,
   "metadata": {},
   "outputs": [],
   "source": [
    "sensmat"
   ]
  },
  {
   "cell_type": "code",
   "execution_count": null,
   "metadata": {},
   "outputs": [],
   "source": [
    "PREFIX = 'aid/aid_1_arc_31_01.15h01m09'#'fttest/fttest_1_arc_29_01.15h08m20'"
   ]
  },
  {
   "cell_type": "code",
   "execution_count": null,
   "metadata": {},
   "outputs": [],
   "source": [
    "def extract_Gs(dat):\n",
    "    dat = np.array(dat)\n",
    "    nsamp = int(floor(len(dat)/NCHANNELS)) # this will actually be exact\n",
    "    captured = dat[ :(nsamp*NCHANNELS) ].reshape(nsamp,NCHANNELS)\n",
    "    Gs = array([ captured[:,i]-captured[:,j] for (i,j) in CHANNEL_TO_G_MAPPING ]).T  # nsamples x 6\n",
    "    return Gs"
   ]
  },
  {
   "cell_type": "code",
   "execution_count": null,
   "metadata": {},
   "outputs": [],
   "source": [
    "biasrec = '%s__bias_holding.bin'%PREFIX"
   ]
  },
  {
   "cell_type": "code",
   "execution_count": null,
   "metadata": {},
   "outputs": [],
   "source": [
    "b = pickle.load(open(biasrec,'rb'))\n",
    "biasraw = extract_Gs(b['ft'])\n",
    "biasG = mean(biasraw[1000:,:],axis=0)   # TODO: take just the non-NA values here for taking the mean"
   ]
  },
  {
   "cell_type": "markdown",
   "metadata": {},
   "source": [
    "### Let's read the trial information"
   ]
  },
  {
   "cell_type": "code",
   "execution_count": null,
   "metadata": {},
   "outputs": [],
   "source": [
    "trialdat = pd.read_csv('%s_trials.txt'%PREFIX,sep=' ')\n",
    "trialdat['t.stay']=trialdat['t.go']-FADE_TIME"
   ]
  },
  {
   "cell_type": "code",
   "execution_count": null,
   "metadata": {},
   "outputs": [],
   "source": [
    "trajectories = pickle.load(open('%s_captured.pickle27'%PREFIX,'rb'))"
   ]
  },
  {
   "cell_type": "code",
   "execution_count": null,
   "metadata": {},
   "outputs": [],
   "source": [
    "def get_trial_data(tr):\n",
    "    \"\"\" Get the data for a given trial, both the trial characteristics, trajectory and force trace \"\"\"\n",
    "    trj = [ t for t in trajectories if t['trial']==tr ][0]\n",
    "    #ft  = allft[tr]\n",
    "    return trialdat[ trialdat['trial']==tr ].iloc[0],trj"
   ]
  },
  {
   "cell_type": "code",
   "execution_count": null,
   "metadata": {},
   "outputs": [],
   "source": [
    "preproc = []\n",
    "for tr in TRIALS:\n",
    "    \n",
    "    trialinfo,capt = get_trial_data(tr)\n",
    "    \n",
    "    thistraj = capt['trajectory'] # a trace of the positions\n",
    "    # Convert trajectory to cm for ease of interpretation\n",
    "    x,y,z=zip(*thistraj)\n",
    "    traj = list(zip(TRAJ_MULTIPLIER*array(x),\n",
    "               TRAJ_MULTIPLIER*array(y),\n",
    "               TRAJ_MULTIPLIER*array(z)))\n",
    "\n",
    "    Gs   = extract_Gs(capt['ft'])\n",
    "    # Subtract bias\n",
    "    G = Gs-biasG\n",
    "    \n",
    "    # Push through the sensor matrix to get the forces/torques\n",
    "    Fs = sensmat.dot(G.T) ## TODO: is sensmat the 'right' way around?\n",
    "    \n",
    "    tab = pd.DataFrame(Fs.T)\n",
    "    tab.columns=columns\n",
    "    \n",
    "    #traj = pd.DataFrame(traj)\n",
    "    assert len(list(traj)) == tab.shape[0] # the position record and the FT record should have the same # of samples\n",
    "    \n",
    "    xyz = list(zip(*traj))\n",
    "    for i,dm in enumerate(['x','y','z']):\n",
    "        tab[dm]=xyz[i]\n",
    "        \n",
    "    tab['fy']=-tab['fy'] # swap the y (sideways) force because the robot counts it different from the FT sensor\n",
    "    \n",
    "    tab['trial']=trialinfo['trial']\n",
    "    direction = 'left' if tab['y'].iloc[0]>0 else 'right'\n",
    "    tab['direction'] = direction\n",
    "    tab['t']=arange(tab.shape[0])/SAMPLING_RATE\n",
    "    \n",
    "    preproc.append(tab)\n",
    "    \n",
    "preproc=pd.concat(preproc)"
   ]
  },
  {
   "cell_type": "code",
   "execution_count": null,
   "metadata": {},
   "outputs": [],
   "source": [
    "#list(traj)"
   ]
  },
  {
   "cell_type": "code",
   "execution_count": null,
   "metadata": {
    "scrolled": true
   },
   "outputs": [],
   "source": [
    "preproc"
   ]
  },
  {
   "cell_type": "markdown",
   "metadata": {},
   "source": [
    "## Determine where you are on the arc"
   ]
  },
  {
   "cell_type": "markdown",
   "metadata": {},
   "source": [
    "Code here below comes from the notebook `WhereTheHeckAreWeOnTheArc?`."
   ]
  },
  {
   "cell_type": "code",
   "execution_count": null,
   "metadata": {},
   "outputs": [],
   "source": [
    "# Also grab a parameter file while we are at it\n",
    "#PREFIX = 'neeraj/neeraj_1_arc_28_01.14h05m34'\n",
    "params = json.load(open(PREFIX+'_parameters.json'))\n",
    "# Convert m to cm\n",
    "for quant in [\"ARC_BASE_X\",\"ARC_BASE_Y\",\"ARC_RADIUS_1\",\"ARC_RADIUS_2\",\"RIGHT_ORIGIN\",\"LEFT_ORIGIN\",\"TARGET_RADIUS\"]:\n",
    "    params[quant]=TRAJ_MULTIPLIER*array(params[quant])"
   ]
  },
  {
   "cell_type": "code",
   "execution_count": null,
   "metadata": {},
   "outputs": [],
   "source": [
    "# The two half-circles that together make up the target trajectory\n",
    "ARCS = [ \n",
    "        (params[\"ARC_BASE_X\"]+params[\"ARC_RADIUS_2\"],params[\"ARC_BASE_Y\"],params[\"ARC_RADIUS_2\"],False),\n",
    "        (params[\"ARC_BASE_X\"]-params[\"ARC_RADIUS_1\"],params[\"ARC_BASE_Y\"],params[\"ARC_RADIUS_1\"],True)\n",
    "        # the last argument in the above tuples tells us whether it's an 'upward' half circle or downward.\n",
    "           ]"
   ]
  },
  {
   "cell_type": "code",
   "execution_count": null,
   "metadata": {},
   "outputs": [],
   "source": [
    "def distance_to_arc(x,y,cx,cy,rad,upper):\n",
    "    \"\"\" \n",
    "    Distance to an arc of a given radius around a given center point.\n",
    "    If upper=True, then the arc is the \"upper\" half of the circle, that is it extends to HIGHER y than cy\n",
    "    If upper=False, then the arc is the \"lower\" half of the circle, that is, it extends to LOWER y than cy\n",
    "    \"\"\"\n",
    "    # First, check that we are in the good half of the circle\n",
    "    goodhalf = (y>cy and upper) or (y<cy and not upper)\n",
    "    \n",
    "    if goodhalf:\n",
    "        dfromcenter= sqrt((x-cx)**2+(y-cy)**2)\n",
    "        return abs(dfromcenter-rad)\n",
    "\n",
    "    # else...\n",
    "    # In this case, the shortest distance to the arc is the shortest\n",
    "    # distance to the edges of the arc\n",
    "    dleftedge  = sqrt((x-(cx-rad))**2+(y-cy)**2)\n",
    "    drightedge = sqrt((x-(cx+rad))**2+(y-cy)**2)\n",
    "    return min([dleftedge,drightedge])\n",
    "\n",
    "\n",
    "def halfcircle_progress(x,y,cx,cy,rad,upper):\n",
    "    \"\"\" Compute the progress along a half-circle defined by center cx,cy and radius, upper \"\"\"\n",
    "    dx,dy = x-cx,y-cy\n",
    "    dy = -dy if not upper else dy\n",
    "    a = np.arctan2(dy,dx)/(2*np.pi)\n",
    "    if a<-.25: a+=1 # and a>-.25: a+=1\n",
    "    return a\n",
    "\n",
    "\n",
    "def arc_progress(x,y):\n",
    "    \"\"\" This tells us, how much 'progress' the subject has made at this current (x,y) position.\n",
    "    So when they are at the starting point, the progress will be 0 and in the target, the progress will be 1.\n",
    "    This is assuming that the subject starts at the right start circle and moves to the left.\n",
    "    \"\"\"\n",
    "    \n",
    "    # Step 1: determine which half-arc (half-circle) the subject is closest to\n",
    "    ds = [ distance_to_arc(x,y,cx,cy,rad,upper) for (cx,cy,rad,upper) in ARCS ]\n",
    "    curarc = argmin(ds)\n",
    "    \n",
    "    # Step 2: for the circle that they are closest to, compute the progress along this half-circle\\\n",
    "    cx,cy,rad,upper = ARCS[curarc]\n",
    "    p = halfcircle_progress(x,y,cx,cy,rad,upper)+.5*curarc\n",
    "    \n",
    "    return p"
   ]
  },
  {
   "cell_type": "code",
   "execution_count": null,
   "metadata": {},
   "outputs": [],
   "source": [
    "#trialinfo\n",
    "preproc['arc.progress'] = [ arc_progress(y,z) for (y,z) in zip(preproc['y'],preproc['z']) ] "
   ]
  },
  {
   "cell_type": "code",
   "execution_count": null,
   "metadata": {},
   "outputs": [],
   "source": [
    "dircol = {'left':'blue','right':'red'}\n",
    "for (tr,dr),ft in preproc.groupby(['trial','direction']):\n",
    "    plot(ft['arc.progress'],color=dircol[dr])\n",
    "sns.despine(offset=5)"
   ]
  },
  {
   "cell_type": "code",
   "execution_count": null,
   "metadata": {},
   "outputs": [],
   "source": [
    "fs = ['fx','fy','fz']\n",
    "directions = ['left','right']\n",
    "\n",
    "f,axs = subplots(len(fs),len(directions),sharex=True,figsize=(10,8))\n",
    "\n",
    "for (tr,dr),ft in preproc.groupby(['trial','direction']):\n",
    "    \n",
    "    j = directions.index(dr)\n",
    "    for i,f in enumerate(fs):\n",
    "        \n",
    "        ax = axs[i][j]\n",
    "        ax.plot(ft['arc.progress'],ft[f])\n",
    "        \n",
    "        ax.set_title(\"%s %s\"%(f,dr))\n",
    "        #ax.plot([])"
   ]
  },
  {
   "cell_type": "markdown",
   "metadata": {},
   "source": [
    "### Now divide the space into sectors and then average the force"
   ]
  },
  {
   "cell_type": "code",
   "execution_count": null,
   "metadata": {},
   "outputs": [],
   "source": [
    "NSECTORS = 16\n",
    "\n",
    "sectors = linspace(0,1,NSECTORS)\n"
   ]
  },
  {
   "cell_type": "code",
   "execution_count": null,
   "metadata": {},
   "outputs": [],
   "source": [
    "sectors"
   ]
  },
  {
   "cell_type": "code",
   "execution_count": null,
   "metadata": {},
   "outputs": [],
   "source": [
    "def which_sector(p):\n",
    "    return argmin([ abs(s-p) for s in sectors ])"
   ]
  },
  {
   "cell_type": "code",
   "execution_count": null,
   "metadata": {},
   "outputs": [],
   "source": [
    "preproc['sector']=[ which_sector(p) for p in preproc['arc.progress'] ]"
   ]
  },
  {
   "cell_type": "code",
   "execution_count": null,
   "metadata": {},
   "outputs": [],
   "source": [
    "preproc"
   ]
  },
  {
   "cell_type": "code",
   "execution_count": null,
   "metadata": {},
   "outputs": [],
   "source": [
    "fsect = preproc.groupby(['sector','direction']).agg({'fx':mean,'fy':mean,'fz':mean}).reset_index()\n",
    "fsect['arc.progress']= [ sectors[s] for s in fsect['sector']]"
   ]
  },
  {
   "cell_type": "code",
   "execution_count": null,
   "metadata": {},
   "outputs": [],
   "source": [
    "fsect"
   ]
  },
  {
   "cell_type": "markdown",
   "metadata": {},
   "source": [
    "Now let's convert the arc progress into a position again!"
   ]
  },
  {
   "cell_type": "code",
   "execution_count": null,
   "metadata": {},
   "outputs": [],
   "source": [
    "def progress_to_pos(p):\n",
    "    \"\"\" Figure out the position corresponding to the 'progress' variable. \"\"\"\n",
    "    \n",
    "    def halfcirc_pos(p,arcinfo):\n",
    "        cx,cy,radius,upper = arcinfo\n",
    "        a = p*2*pi # the angle so far\n",
    "        dx,dy = radius*np.cos(a),radius*np.sin(a)\n",
    "        if not upper:\n",
    "            dy = -dy\n",
    "        return cx+dx,cy+dy\n",
    "\n",
    "     # Step 1: determine which half-arc (half-circle) the subject is closest to\n",
    "    if p<.5:\n",
    "        return halfcirc_pos(p,ARCS[0])\n",
    "    else:\n",
    "        return halfcirc_pos(p-.5,ARCS[1])"
   ]
  },
  {
   "cell_type": "code",
   "execution_count": null,
   "metadata": {},
   "outputs": [],
   "source": [
    "x,y = zip(*[progress_to_pos(p) for p in fsect['arc.progress']])\n",
    "fsect['x']=x\n",
    "fsect['y']=y"
   ]
  },
  {
   "cell_type": "code",
   "execution_count": null,
   "metadata": {},
   "outputs": [],
   "source": [
    "fsect"
   ]
  },
  {
   "cell_type": "code",
   "execution_count": null,
   "metadata": {},
   "outputs": [],
   "source": [
    "def draw_arc(ax):\n",
    "    \"\"\" \n",
    "    Draw a reference arc in a given plot\n",
    "    \"\"\"\n",
    "    col   = 'black'\n",
    "    alpha =.3\n",
    "    lw    = 2\n",
    "\n",
    "    circangs = linspace(0,2*pi,100)\n",
    "    \n",
    "    def arc(center,radius,angs):\n",
    "        cx,cy=center\n",
    "        ax.plot((cx+radius*cos(angs)),\n",
    "                (cy+radius*sin(angs)),color=col,alpha=alpha,lw=lw)\n",
    "        # What that factor 100 is doing in there? Converting m to cm.\n",
    "\n",
    "    arc(params[\"RIGHT_ORIGIN\"],params[\"TARGET_RADIUS\"],circangs)\n",
    "    arc(params[\"LEFT_ORIGIN\"] ,params[\"TARGET_RADIUS\"],circangs)    \n",
    "    \n",
    "    arc((params[\"ARC_BASE_X\"]-params[\"ARC_RADIUS_1\"],params[\"ARC_BASE_Y\"]),params[\"ARC_RADIUS_1\"],linspace(0,   pi,100))\n",
    "    arc((params[\"ARC_BASE_X\"]+params[\"ARC_RADIUS_2\"],params[\"ARC_BASE_Y\"]),params[\"ARC_RADIUS_2\"],linspace(pi,2*pi,100))\n",
    "    ax.set_aspect('equal')"
   ]
  },
  {
   "cell_type": "code",
   "execution_count": null,
   "metadata": {},
   "outputs": [],
   "source": [
    "fmagnif = .5\n",
    "directions = ['left','right']\n",
    "\n",
    "f,axs = subplots(1,2,figsize=(13,5))\n",
    "for i,ax in enumerate(axs):\n",
    "    draw_arc(ax)\n",
    "    ax.set_title(directions[i])\n",
    "\n",
    "for d,grp in fsect.groupby('direction'):\n",
    "    ax = axs[directions.index(d)]\n",
    "    for i,row in grp.iterrows():\n",
    "        #if True:\n",
    "        if True:\n",
    "            ax.plot(row['x'],row['y'],'o',color='black')\n",
    "            #ax.text(row['x'],row['y'],row['arc.progress'])\n",
    "            ax.arrow(row['x'],row['y'],\n",
    "                     fmagnif*row['fy'],\n",
    "                     fmagnif*row['fz'],head_width=0.05, head_length=0.1)\n",
    "            \n",
    "for ax in axs:\n",
    "    ax.set_aspect('equal')\n",
    "    ax.set_xlim(-2,2)\n",
    "    ax.set_ylim(-1.5,1.5)\n",
    "    \n",
    "tight_layout()\n",
    "sns.despine(offset=5)"
   ]
  },
  {
   "cell_type": "markdown",
   "metadata": {},
   "source": [
    "# Perpendicular and tangential forces\n",
    "Now like with a force channel, we'll want to calculate how much of each force is perpendicular to the channel wall (the 'bad' force) and how much is tangential to the channel wall (the 'good' force because it helps to move along the channel)."
   ]
  },
  {
   "cell_type": "code",
   "execution_count": null,
   "metadata": {},
   "outputs": [],
   "source": [
    "plot(preproc['y'],preproc['z'],'o')"
   ]
  },
  {
   "cell_type": "code",
   "execution_count": null,
   "metadata": {},
   "outputs": [],
   "source": [
    "#point = preproc.iloc[10000:10100]"
   ]
  },
  {
   "cell_type": "code",
   "execution_count": null,
   "metadata": {},
   "outputs": [],
   "source": [
    "#point = preproc[500]"
   ]
  },
  {
   "cell_type": "code",
   "execution_count": null,
   "metadata": {},
   "outputs": [],
   "source": [
    "def to_arc_center(x,y):\n",
    "    \"\"\" Given a point (x,y), return the unit vector pointing towards the arc center \n",
    "    of the half-circle that we are closest to. \"\"\"\n",
    "    # Step 1: determine which half-arc (half-circle) the subject is closest to\n",
    "    ds = [ distance_to_arc(x,y,cx,cy,rad,upper) for (cx,cy,rad,upper) in ARCS ]\n",
    "    curarc = argmin(ds)\n",
    "    # Step 2: for the circle that they are closest to, compute the progress along this half-circle\\\n",
    "    cx,cy,rad,upper = ARCS[curarc]\n",
    "    \n",
    "    v = array([cx-x,cy-y])\n",
    "    normv = np.sqrt(sum(v**2))\n",
    "    \n",
    "    return v/normv"
   ]
  },
  {
   "cell_type": "code",
   "execution_count": null,
   "metadata": {},
   "outputs": [],
   "source": [
    "def rebase_to_center(x,y):\n",
    "    perp = to_arc_center(x,y) # a unit vector perpendicular to the channel wall, and towards the center of the arc\n",
    "    tang = np.array([perp[1],-perp[0]]) # a unit vector orthogonal to the former one, but the direction we don't know\n",
    "    return perp,tang"
   ]
  },
  {
   "cell_type": "code",
   "execution_count": null,
   "metadata": {},
   "outputs": [],
   "source": [
    "#perp,tang = rebase_to_center(x,y)"
   ]
  },
  {
   "cell_type": "code",
   "execution_count": null,
   "metadata": {},
   "outputs": [],
   "source": [
    "def dissect_force(x,y,fx,fy):\n",
    "    \"\"\" Given a position and a force vector,\n",
    "    compute the force perpendicular to the arc (the bad force) and\n",
    "    the force tangential to the arc (the good force). May be force be with you. \"\"\"\n",
    "    perp,tang = rebase_to_center(x,y)\n",
    "    f = array([fx,fy])\n",
    "    return sum(f*perp),sum(f*tang)"
   ]
  },
  {
   "cell_type": "code",
   "execution_count": null,
   "metadata": {},
   "outputs": [],
   "source": [
    "#x,y = point['y'],point['z']\n",
    "x,y   = 1.0,-.4\n",
    "fx,fy = -.4,.2\n",
    "perp,tang = rebase_to_center(x,y)\n",
    "\n",
    "f,ax = subplots(1,1)\n",
    "draw_arc(ax)\n",
    "ax.plot(x,y,'o')\n",
    "ax.arrow(x,y,perp[0],perp[1])\n",
    "ax.arrow(x,y,tang[0],tang[1])\n",
    "ax.arrow(x,y,fx,fy,color='blue')\n",
    "\n",
    "fperp,ftang = dissect_force(x,y,fx,fy)\n",
    "fp,ft = perp*fperp,tang*ftang\n",
    "ax.arrow(x,y,perp[0],perp[1])\n",
    "ax.arrow(x,y,tang[0],tang[1])\n",
    "ax.arrow(x,y,fp[0],fp[1],color='red')\n",
    "ax.arrow(x,y,ft[0],ft[1],color='green')\n",
    "\n",
    "ax.set_aspect('equal')"
   ]
  },
  {
   "cell_type": "code",
   "execution_count": null,
   "metadata": {},
   "outputs": [],
   "source": [
    "thistrial = preproc[ preproc['trial']==3 ]"
   ]
  },
  {
   "cell_type": "code",
   "execution_count": null,
   "metadata": {},
   "outputs": [],
   "source": [
    "sel = range(0,thistrial.shape[0],1)\n",
    "thistrial = thistrial.iloc[ sel ]"
   ]
  },
  {
   "cell_type": "code",
   "execution_count": null,
   "metadata": {},
   "outputs": [],
   "source": [
    "def dissect(x,y,fx,fy):\n",
    "    \"\"\" Return the perpendicular and tangential unit force vectors as well as\n",
    "    the projection of the force along these two dimensions. \"\"\"\n",
    "    (px,py),(tx,ty) = rebase_to_center(x,y) # for display\n",
    "    fperp,ftang = dissect_force(x,y,fx,fy) # for analysis\n",
    "    return (fperp,ftang,fperp*px,fperp*py,ftang*tx,ftang*ty)"
   ]
  },
  {
   "cell_type": "code",
   "execution_count": null,
   "metadata": {},
   "outputs": [],
   "source": [
    "# Get the unit vectors perpendicular to and tangential to the arc\n",
    "perptang = [ dissect_force(x,y,fx,fy) \n",
    "            for (x,y,fx,fy) in zip(thistrial['y'],thistrial['z'],thistrial['fy'],thistrial['fz']) ]\n",
    "perptang = pd.DataFrame(perptang)\n",
    "perptang.columns = ['f.perp','f.tang']\n",
    "\n",
    "withforce = pd.concat([thistrial.reset_index(), \n",
    "                       perptang.reset_index()], axis=1)"
   ]
  },
  {
   "cell_type": "code",
   "execution_count": null,
   "metadata": {},
   "outputs": [],
   "source": [
    "withforce.head()"
   ]
  },
  {
   "cell_type": "code",
   "execution_count": null,
   "metadata": {},
   "outputs": [],
   "source": [
    "if False:\n",
    "    f,ax = subplots(1,1,figsize=(10,10))\n",
    "    draw_arc(ax)\n",
    "    ax.plot(withforce['y'],withforce['z'],'-o')\n",
    "    for i,row in withforce.iterrows():\n",
    "        (py,pz),(ty,tz) = rebase_to_center(row['y'],row['z'])\n",
    "        ax.arrow(row['y'],row['z'],row['f.perp']*py,row['f.perp']*pz,color='red')\n",
    "        ax.arrow(row['y'],row['z'],row['f.tang']*ty,row['f.tang']*tz,color='green')\n",
    "\n",
    "    ax.set_xlim(-2,2)\n",
    "    ax.set_ylim(-2,2)"
   ]
  },
  {
   "cell_type": "code",
   "execution_count": null,
   "metadata": {},
   "outputs": [],
   "source": [
    "def plot_sample(i):\n",
    "\n",
    "    row = thistrial.iloc[i]\n",
    "    x,y,fx,fy=row['y'],row['z'],row['fy'],row['fz']\n",
    "    perp,tang = rebase_to_center(x,y)\n",
    "\n",
    "    f,ax = subplots(1,1,figsize=(10,10))\n",
    "    draw_arc(ax)\n",
    "    ax.plot(x,y,'o')\n",
    "    #ax.arrow(x,y,perp[0],perp[1])\n",
    "    #ax.arrow(x,y,tang[0],tang[1])\n",
    "    ax.arrow(x,y,fx,fy,color='blue')\n",
    "\n",
    "    fperp,ftang = dissect_force(x,y,fx,fy)\n",
    "    fp,ft = perp*fperp,tang*ftang\n",
    "    #ax.arrow(x,y,perp[0],perp[1])\n",
    "    #ax.arrow(x,y,tang[0],tang[1])\n",
    "    ax.arrow(x,y,fp[0],fp[1],color='red')\n",
    "    ax.arrow(x,y,ft[0],ft[1],color='green')\n",
    "\n",
    "    ax.set_aspect('equal')\n",
    "    ax.set_ylim(-1.5,1.5)\n",
    "    ax.set_xlim(-1.5,1.5)\n",
    "    plt.show()"
   ]
  },
  {
   "cell_type": "code",
   "execution_count": null,
   "metadata": {},
   "outputs": [],
   "source": [
    "#plot_sample(1)\n",
    "interactive_plot = ipywidgets.interactive(plot_sample, i=(0,thistrial.shape[0]))\n",
    "output = interactive_plot.children[-1]\n",
    "output.layout.height = '500px'\n",
    "interactive_plot"
   ]
  },
  {
   "cell_type": "markdown",
   "metadata": {},
   "source": [
    "## Compute this for all subjects and all trials"
   ]
  },
  {
   "cell_type": "code",
   "execution_count": null,
   "metadata": {},
   "outputs": [],
   "source": [
    "# Get the unit vectors perpendicular to and tangential to the arc\n",
    "perptang = [ dissect_force(x,y,fx,fy) \n",
    "            for (x,y,fx,fy) in zip(preproc['y'],preproc['z'],preproc['fy'],preproc['fz']) ]\n",
    "perptang = pd.DataFrame(perptang)\n",
    "perptang.columns = ['f.perp','f.tang']\n",
    "\n",
    "withforce = pd.concat([preproc.reset_index(), \n",
    "                       perptang.reset_index()], axis=1)"
   ]
  },
  {
   "cell_type": "code",
   "execution_count": null,
   "metadata": {},
   "outputs": [],
   "source": [
    "fs = ['f.perp','f.tang']\n",
    "directions = ['left','right']\n",
    "\n",
    "f,axs = subplots(len(fs),len(directions),sharex=True,figsize=(10,8))\n",
    "\n",
    "for (tr,dr),ft in withforce.groupby(['trial','direction']):\n",
    "    \n",
    "    j = directions.index(dr)\n",
    "    for i,f in enumerate(fs):\n",
    "        \n",
    "        ax = axs[i][j]\n",
    "        ax.plot(ft['arc.progress'],abs(ft[f]))\n",
    "        \n",
    "        ax.set_title(\"%s %s\"%(f,dr))\n",
    "        #ax.plot([])"
   ]
  },
  {
   "cell_type": "code",
   "execution_count": null,
   "metadata": {},
   "outputs": [],
   "source": []
  }
 ],
 "metadata": {
  "kernelspec": {
   "display_name": "Python 3",
   "language": "python",
   "name": "python3"
  },
  "language_info": {
   "codemirror_mode": {
    "name": "ipython",
    "version": 3
   },
   "file_extension": ".py",
   "mimetype": "text/x-python",
   "name": "python",
   "nbconvert_exporter": "python",
   "pygments_lexer": "ipython3",
   "version": "3.6.7"
  }
 },
 "nbformat": 4,
 "nbformat_minor": 2
}
